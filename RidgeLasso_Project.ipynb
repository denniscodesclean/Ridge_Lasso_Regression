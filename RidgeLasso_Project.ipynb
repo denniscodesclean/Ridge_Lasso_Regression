{
  "nbformat": 4,
  "nbformat_minor": 0,
  "metadata": {
    "kernelspec": {
      "display_name": "Python 3",
      "language": "python",
      "name": "python3"
    },
    "language_info": {
      "codemirror_mode": {
        "name": "ipython",
        "version": 3
      },
      "file_extension": ".py",
      "mimetype": "text/x-python",
      "name": "python",
      "nbconvert_exporter": "python",
      "pygments_lexer": "ipython3",
      "version": "3.6.7"
    },
    "colab": {
      "provenance": []
    }
  },
  "cells": [
    {
      "cell_type": "code",
      "metadata": {
        "id": "qc_6Yf8fie3X"
      },
      "source": [
        "import pandas as pd\n",
        "import numpy as np\n",
        "import matplotlib.pyplot as plt\n",
        "\n",
        "%matplotlib inline"
      ],
      "execution_count": null,
      "outputs": []
    },
    {
      "cell_type": "markdown",
      "source": [
        "# Load data using Pandas"
      ],
      "metadata": {
        "id": "a-_A8WYsaskv"
      }
    },
    {
      "cell_type": "code",
      "metadata": {
        "id": "sxovDo9Kie3d",
        "outputId": "99827459-d426-4f82-b609-e428c55d3e77",
        "colab": {
          "base_uri": "https://localhost:8080/",
          "height": 314
        }
      },
      "source": [
        "sales = pd.read_csv(\"home_data.csv\")\n",
        "sales = sales.sample(frac=0.01, random_state=0) \n",
        "sales.head()"
      ],
      "execution_count": null,
      "outputs": [
        {
          "output_type": "stream",
          "name": "stdout",
          "text": [
            "Number of points: 216\n"
          ]
        },
        {
          "output_type": "execute_result",
          "data": {
            "text/plain": [
              "               id             date    price  bedrooms  bathrooms  sqft_living  \\\n",
              "17384  1453602313  20141029T000000   297000         2       1.50         1430   \n",
              "722    2225059214  20140808T000000  1578000         4       3.25         4670   \n",
              "2680   2768000270  20140625T000000   562100         2       0.75         1440   \n",
              "18754  6819100040  20140624T000000   631500         2       1.00         1130   \n",
              "14554  4027700666  20150426T000000   780000         4       2.50         3180   \n",
              "\n",
              "       sqft_lot  floors  waterfront  view  ...  grade  sqft_above  \\\n",
              "17384      1650     3.0           0     0  ...      7        1430   \n",
              "722       51836     2.0           0     0  ...     12        4670   \n",
              "2680       3700     1.0           0     0  ...      7        1200   \n",
              "18754      2640     1.0           0     0  ...      8        1130   \n",
              "14554      9603     2.0           0     2  ...      9        3180   \n",
              "\n",
              "       sqft_basement  yr_built  yr_renovated  zipcode      lat     long  \\\n",
              "17384              0      1999             0    98125  47.7222 -122.290   \n",
              "722                0      1988             0    98005  47.6350 -122.164   \n",
              "2680             240      1914             0    98107  47.6707 -122.364   \n",
              "18754              0      1927             0    98109  47.6438 -122.357   \n",
              "14554              0      2002             0    98155  47.7717 -122.277   \n",
              "\n",
              "       sqft_living15  sqft_lot15  \n",
              "17384           1430        1650  \n",
              "722             4230       41075  \n",
              "2680            1440        4300  \n",
              "18754           1680        3200  \n",
              "14554           2440       15261  \n",
              "\n",
              "[5 rows x 21 columns]"
            ],
            "text/html": [
              "\n",
              "  <div id=\"df-ba4b9594-0653-4abc-a74e-409282f8605d\">\n",
              "    <div class=\"colab-df-container\">\n",
              "      <div>\n",
              "<style scoped>\n",
              "    .dataframe tbody tr th:only-of-type {\n",
              "        vertical-align: middle;\n",
              "    }\n",
              "\n",
              "    .dataframe tbody tr th {\n",
              "        vertical-align: top;\n",
              "    }\n",
              "\n",
              "    .dataframe thead th {\n",
              "        text-align: right;\n",
              "    }\n",
              "</style>\n",
              "<table border=\"1\" class=\"dataframe\">\n",
              "  <thead>\n",
              "    <tr style=\"text-align: right;\">\n",
              "      <th></th>\n",
              "      <th>id</th>\n",
              "      <th>date</th>\n",
              "      <th>price</th>\n",
              "      <th>bedrooms</th>\n",
              "      <th>bathrooms</th>\n",
              "      <th>sqft_living</th>\n",
              "      <th>sqft_lot</th>\n",
              "      <th>floors</th>\n",
              "      <th>waterfront</th>\n",
              "      <th>view</th>\n",
              "      <th>...</th>\n",
              "      <th>grade</th>\n",
              "      <th>sqft_above</th>\n",
              "      <th>sqft_basement</th>\n",
              "      <th>yr_built</th>\n",
              "      <th>yr_renovated</th>\n",
              "      <th>zipcode</th>\n",
              "      <th>lat</th>\n",
              "      <th>long</th>\n",
              "      <th>sqft_living15</th>\n",
              "      <th>sqft_lot15</th>\n",
              "    </tr>\n",
              "  </thead>\n",
              "  <tbody>\n",
              "    <tr>\n",
              "      <th>17384</th>\n",
              "      <td>1453602313</td>\n",
              "      <td>20141029T000000</td>\n",
              "      <td>297000</td>\n",
              "      <td>2</td>\n",
              "      <td>1.50</td>\n",
              "      <td>1430</td>\n",
              "      <td>1650</td>\n",
              "      <td>3.0</td>\n",
              "      <td>0</td>\n",
              "      <td>0</td>\n",
              "      <td>...</td>\n",
              "      <td>7</td>\n",
              "      <td>1430</td>\n",
              "      <td>0</td>\n",
              "      <td>1999</td>\n",
              "      <td>0</td>\n",
              "      <td>98125</td>\n",
              "      <td>47.7222</td>\n",
              "      <td>-122.290</td>\n",
              "      <td>1430</td>\n",
              "      <td>1650</td>\n",
              "    </tr>\n",
              "    <tr>\n",
              "      <th>722</th>\n",
              "      <td>2225059214</td>\n",
              "      <td>20140808T000000</td>\n",
              "      <td>1578000</td>\n",
              "      <td>4</td>\n",
              "      <td>3.25</td>\n",
              "      <td>4670</td>\n",
              "      <td>51836</td>\n",
              "      <td>2.0</td>\n",
              "      <td>0</td>\n",
              "      <td>0</td>\n",
              "      <td>...</td>\n",
              "      <td>12</td>\n",
              "      <td>4670</td>\n",
              "      <td>0</td>\n",
              "      <td>1988</td>\n",
              "      <td>0</td>\n",
              "      <td>98005</td>\n",
              "      <td>47.6350</td>\n",
              "      <td>-122.164</td>\n",
              "      <td>4230</td>\n",
              "      <td>41075</td>\n",
              "    </tr>\n",
              "    <tr>\n",
              "      <th>2680</th>\n",
              "      <td>2768000270</td>\n",
              "      <td>20140625T000000</td>\n",
              "      <td>562100</td>\n",
              "      <td>2</td>\n",
              "      <td>0.75</td>\n",
              "      <td>1440</td>\n",
              "      <td>3700</td>\n",
              "      <td>1.0</td>\n",
              "      <td>0</td>\n",
              "      <td>0</td>\n",
              "      <td>...</td>\n",
              "      <td>7</td>\n",
              "      <td>1200</td>\n",
              "      <td>240</td>\n",
              "      <td>1914</td>\n",
              "      <td>0</td>\n",
              "      <td>98107</td>\n",
              "      <td>47.6707</td>\n",
              "      <td>-122.364</td>\n",
              "      <td>1440</td>\n",
              "      <td>4300</td>\n",
              "    </tr>\n",
              "    <tr>\n",
              "      <th>18754</th>\n",
              "      <td>6819100040</td>\n",
              "      <td>20140624T000000</td>\n",
              "      <td>631500</td>\n",
              "      <td>2</td>\n",
              "      <td>1.00</td>\n",
              "      <td>1130</td>\n",
              "      <td>2640</td>\n",
              "      <td>1.0</td>\n",
              "      <td>0</td>\n",
              "      <td>0</td>\n",
              "      <td>...</td>\n",
              "      <td>8</td>\n",
              "      <td>1130</td>\n",
              "      <td>0</td>\n",
              "      <td>1927</td>\n",
              "      <td>0</td>\n",
              "      <td>98109</td>\n",
              "      <td>47.6438</td>\n",
              "      <td>-122.357</td>\n",
              "      <td>1680</td>\n",
              "      <td>3200</td>\n",
              "    </tr>\n",
              "    <tr>\n",
              "      <th>14554</th>\n",
              "      <td>4027700666</td>\n",
              "      <td>20150426T000000</td>\n",
              "      <td>780000</td>\n",
              "      <td>4</td>\n",
              "      <td>2.50</td>\n",
              "      <td>3180</td>\n",
              "      <td>9603</td>\n",
              "      <td>2.0</td>\n",
              "      <td>0</td>\n",
              "      <td>2</td>\n",
              "      <td>...</td>\n",
              "      <td>9</td>\n",
              "      <td>3180</td>\n",
              "      <td>0</td>\n",
              "      <td>2002</td>\n",
              "      <td>0</td>\n",
              "      <td>98155</td>\n",
              "      <td>47.7717</td>\n",
              "      <td>-122.277</td>\n",
              "      <td>2440</td>\n",
              "      <td>15261</td>\n",
              "    </tr>\n",
              "  </tbody>\n",
              "</table>\n",
              "<p>5 rows × 21 columns</p>\n",
              "</div>\n",
              "      <button class=\"colab-df-convert\" onclick=\"convertToInteractive('df-ba4b9594-0653-4abc-a74e-409282f8605d')\"\n",
              "              title=\"Convert this dataframe to an interactive table.\"\n",
              "              style=\"display:none;\">\n",
              "        \n",
              "  <svg xmlns=\"http://www.w3.org/2000/svg\" height=\"24px\"viewBox=\"0 0 24 24\"\n",
              "       width=\"24px\">\n",
              "    <path d=\"M0 0h24v24H0V0z\" fill=\"none\"/>\n",
              "    <path d=\"M18.56 5.44l.94 2.06.94-2.06 2.06-.94-2.06-.94-.94-2.06-.94 2.06-2.06.94zm-11 1L8.5 8.5l.94-2.06 2.06-.94-2.06-.94L8.5 2.5l-.94 2.06-2.06.94zm10 10l.94 2.06.94-2.06 2.06-.94-2.06-.94-.94-2.06-.94 2.06-2.06.94z\"/><path d=\"M17.41 7.96l-1.37-1.37c-.4-.4-.92-.59-1.43-.59-.52 0-1.04.2-1.43.59L10.3 9.45l-7.72 7.72c-.78.78-.78 2.05 0 2.83L4 21.41c.39.39.9.59 1.41.59.51 0 1.02-.2 1.41-.59l7.78-7.78 2.81-2.81c.8-.78.8-2.07 0-2.86zM5.41 20L4 18.59l7.72-7.72 1.47 1.35L5.41 20z\"/>\n",
              "  </svg>\n",
              "      </button>\n",
              "      \n",
              "  <style>\n",
              "    .colab-df-container {\n",
              "      display:flex;\n",
              "      flex-wrap:wrap;\n",
              "      gap: 12px;\n",
              "    }\n",
              "\n",
              "    .colab-df-convert {\n",
              "      background-color: #E8F0FE;\n",
              "      border: none;\n",
              "      border-radius: 50%;\n",
              "      cursor: pointer;\n",
              "      display: none;\n",
              "      fill: #1967D2;\n",
              "      height: 32px;\n",
              "      padding: 0 0 0 0;\n",
              "      width: 32px;\n",
              "    }\n",
              "\n",
              "    .colab-df-convert:hover {\n",
              "      background-color: #E2EBFA;\n",
              "      box-shadow: 0px 1px 2px rgba(60, 64, 67, 0.3), 0px 1px 3px 1px rgba(60, 64, 67, 0.15);\n",
              "      fill: #174EA6;\n",
              "    }\n",
              "\n",
              "    [theme=dark] .colab-df-convert {\n",
              "      background-color: #3B4455;\n",
              "      fill: #D2E3FC;\n",
              "    }\n",
              "\n",
              "    [theme=dark] .colab-df-convert:hover {\n",
              "      background-color: #434B5C;\n",
              "      box-shadow: 0px 1px 3px 1px rgba(0, 0, 0, 0.15);\n",
              "      filter: drop-shadow(0px 1px 2px rgba(0, 0, 0, 0.3));\n",
              "      fill: #FFFFFF;\n",
              "    }\n",
              "  </style>\n",
              "\n",
              "      <script>\n",
              "        const buttonEl =\n",
              "          document.querySelector('#df-ba4b9594-0653-4abc-a74e-409282f8605d button.colab-df-convert');\n",
              "        buttonEl.style.display =\n",
              "          google.colab.kernel.accessAllowed ? 'block' : 'none';\n",
              "\n",
              "        async function convertToInteractive(key) {\n",
              "          const element = document.querySelector('#df-ba4b9594-0653-4abc-a74e-409282f8605d');\n",
              "          const dataTable =\n",
              "            await google.colab.kernel.invokeFunction('convertToInteractive',\n",
              "                                                     [key], {});\n",
              "          if (!dataTable) return;\n",
              "\n",
              "          const docLinkHtml = 'Like what you see? Visit the ' +\n",
              "            '<a target=\"_blank\" href=https://colab.research.google.com/notebooks/data_table.ipynb>data table notebook</a>'\n",
              "            + ' to learn more about interactive tables.';\n",
              "          element.innerHTML = '';\n",
              "          dataTable['output_type'] = 'display_data';\n",
              "          await google.colab.output.renderOutput(dataTable, element);\n",
              "          const docLink = document.createElement('div');\n",
              "          docLink.innerHTML = docLinkHtml;\n",
              "          element.appendChild(docLink);\n",
              "        }\n",
              "      </script>\n",
              "    </div>\n",
              "  </div>\n",
              "  "
            ]
          },
          "metadata": {},
          "execution_count": 2
        }
      ]
    },
    {
      "cell_type": "code",
      "metadata": {
        "id": "O3-mJSjVie3h",
        "outputId": "83b46257-1feb-4417-c948-10117790bdc8",
        "colab": {
          "base_uri": "https://localhost:8080/"
        }
      },
      "source": [
        "from math import sqrt\n",
        "\n",
        "# All of the features of interest\n",
        "features = [\n",
        "    'bedrooms', \n",
        "    'bathrooms',\n",
        "    'sqft_living', \n",
        "    'sqft_lot', \n",
        "    'floors', \n",
        "    'waterfront', \n",
        "    'view', \n",
        "    'condition', \n",
        "    'grade',\n",
        "    'sqft_above',\n",
        "    'sqft_basement',\n",
        "    'yr_built', \n",
        "    'yr_renovated'\n",
        "]\n",
        "\n",
        "# Compute the square and sqrt of each feature\n",
        "all_features = []\n",
        "for feat in features:\n",
        "    square_feat = feat + '_square'\n",
        "    sqrt_feat = feat + '_sqrt'\n",
        "    \n",
        "    sales[square_feat] = sales[feat] ** 2\n",
        "    sales[sqrt_feat] = sales[feat].apply(sqrt)\n",
        "    \n",
        "    all_features.extend([feat, square_feat, sqrt_feat])\n",
        "    \n",
        "print(sales.head())\n",
        "\n",
        "X = sales[all_features]\n",
        "y = sales['price']"
      ],
      "execution_count": null,
      "outputs": [
        {
          "output_type": "stream",
          "name": "stdout",
          "text": [
            "               id             date    price  bedrooms  bathrooms  sqft_living  \\\n",
            "17384  1453602313  20141029T000000   297000         2       1.50         1430   \n",
            "722    2225059214  20140808T000000  1578000         4       3.25         4670   \n",
            "2680   2768000270  20140625T000000   562100         2       0.75         1440   \n",
            "18754  6819100040  20140624T000000   631500         2       1.00         1130   \n",
            "14554  4027700666  20150426T000000   780000         4       2.50         3180   \n",
            "\n",
            "       sqft_lot  floors  waterfront  view  ...  grade_square  grade_sqrt  \\\n",
            "17384      1650     3.0           0     0  ...            49    2.645751   \n",
            "722       51836     2.0           0     0  ...           144    3.464102   \n",
            "2680       3700     1.0           0     0  ...            49    2.645751   \n",
            "18754      2640     1.0           0     0  ...            64    2.828427   \n",
            "14554      9603     2.0           0     2  ...            81    3.000000   \n",
            "\n",
            "       sqft_above_square  sqft_above_sqrt  sqft_basement_square  \\\n",
            "17384            2044900        37.815341                     0   \n",
            "722             21808900        68.337398                     0   \n",
            "2680             1440000        34.641016                 57600   \n",
            "18754            1276900        33.615473                     0   \n",
            "14554           10112400        56.391489                     0   \n",
            "\n",
            "       sqft_basement_sqrt  yr_built_square  yr_built_sqrt  \\\n",
            "17384            0.000000          3996001      44.710178   \n",
            "722              0.000000          3952144      44.586994   \n",
            "2680            15.491933          3663396      43.749286   \n",
            "18754            0.000000          3713329      43.897608   \n",
            "14554            0.000000          4008004      44.743715   \n",
            "\n",
            "       yr_renovated_square  yr_renovated_sqrt  \n",
            "17384                    0                0.0  \n",
            "722                      0                0.0  \n",
            "2680                     0                0.0  \n",
            "18754                    0                0.0  \n",
            "14554                    0                0.0  \n",
            "\n",
            "[5 rows x 47 columns]\n"
          ]
        }
      ]
    },
    {
      "cell_type": "markdown",
      "source": [
        "# Split training, validation, testing data.\n",
        "70% training, 10% validaiton, 20% testing"
      ],
      "metadata": {
        "id": "ePGi28Cfa07Y"
      }
    },
    {
      "cell_type": "code",
      "metadata": {
        "id": "uqF3MC6bie3k",
        "outputId": "b93691d4-7d58-4a16-bc7a-ce0beb74a52b",
        "colab": {
          "base_uri": "https://localhost:8080/"
        }
      },
      "source": [
        "from sklearn.model_selection import train_test_split\n",
        "X_train_and_validation, X_test, y_train_and_validation, y_test  =  train_test_split(X, y, random_state = 6, test_size = 0.2)\n",
        "X_train, X_val, y_train, y_val = train_test_split(X_train_and_validation, y_train_and_validation, random_state = 6, test_size = 0.125)\n",
        "print(X_train.shape, X_val.shape, X_test.shape)"
      ],
      "execution_count": null,
      "outputs": [
        {
          "output_type": "stream",
          "name": "stdout",
          "text": [
            "(150, 39) (22, 39) (44, 39)\n"
          ]
        }
      ]
    },
    {
      "cell_type": "markdown",
      "metadata": {
        "id": "9Jk7GvKhie3o"
      },
      "source": [
        "# Standardize data for Lasoo & Ridge"
      ]
    },
    {
      "cell_type": "code",
      "metadata": {
        "id": "TKJnzMt1ie3p"
      },
      "source": [
        "from sklearn.preprocessing import StandardScaler\n",
        "\n",
        "scaler = StandardScaler()\n",
        "\n",
        "X_train = scaler.fit_transform(X_train)\n",
        "y_train = y_train - np.mean(y_train)\n",
        "\n",
        "X_test = scaler.transform(X_test)\n",
        "y_test = y_test - np.mean(y_train)\n",
        "\n",
        "X_val = scaler.transform(X_val)\n",
        "y_val = y_val - np.mean(y_train)"
      ],
      "execution_count": null,
      "outputs": []
    },
    {
      "cell_type": "markdown",
      "metadata": {
        "id": "LqtmxHfqie3s"
      },
      "source": [
        "# 1. Linear Regression"
      ]
    },
    {
      "cell_type": "code",
      "metadata": {
        "id": "D02psSd4ie3s",
        "colab": {
          "base_uri": "https://localhost:8080/"
        },
        "outputId": "68a5d570-5506-4f71-f62e-f5547b6cede6"
      },
      "source": [
        "from sklearn.linear_model import LinearRegression\n",
        "from sklearn.metrics import mean_squared_error\n",
        "linreg = LinearRegression()\n",
        "linreg.fit(X_train, y_train)\n",
        "train_pred = linreg.predict(X_train)\n",
        "test_pred = linreg.predict(X_test)\n",
        "train_rmse = mean_squared_error(y_train, train_pred, squared = False)\n",
        "test_rmse = mean_squared_error(y_test, test_pred, squared = False)\n",
        "print('Train', train_rmse)\n",
        "print('Test', test_rmse)"
      ],
      "execution_count": null,
      "outputs": [
        {
          "output_type": "stream",
          "name": "stdout",
          "text": [
            "Train 142457.3154234857\n",
            "Test 675086.242548365\n",
            "(1894086.5763674816, 'bedrooms')\n",
            "(-746759.7299082308, 'bedrooms_square')\n",
            "(-1198012.111738742, 'bedrooms_sqrt')\n",
            "(-1617526.539555181, 'bathrooms')\n",
            "(764857.6728405949, 'bathrooms_square')\n",
            "(969565.6521354774, 'bathrooms_sqrt')\n",
            "(979868.2933625596, 'sqft_living')\n",
            "(-579540.0225597759, 'sqft_living_square')\n",
            "(-941586.0021521985, 'sqft_living_sqrt')\n",
            "(278470.19944551104, 'sqft_lot')\n",
            "(-103922.78095722805, 'sqft_lot_square')\n",
            "(-173278.257107394, 'sqft_lot_sqrt')\n",
            "(25579.278123902543, 'floors')\n",
            "(64576.72518035928, 'floors_square')\n",
            "(-130359.30139444595, 'floors_sqrt')\n",
            "(44515.012195357085, 'waterfront')\n",
            "(44515.02848184643, 'waterfront_square')\n",
            "(44515.02877533743, 'waterfront_sqrt')\n",
            "(-520068.6097835349, 'view')\n",
            "(238192.56342691297, 'view_square')\n",
            "(293040.79825962934, 'view_sqrt')\n",
            "(11076.309026256977, 'condition')\n",
            "(-15052.107393390146, 'condition_square')\n",
            "(23447.096484998125, 'condition_sqrt')\n",
            "(-6386845.485037076, 'grade')\n",
            "(2218110.936366662, 'grade_square')\n",
            "(4315529.779989366, 'grade_sqrt')\n",
            "(890203.1049303896, 'sqft_above')\n",
            "(-16147.651847520645, 'sqft_above_square')\n",
            "(-210322.36561396898, 'sqft_above_sqrt')\n",
            "(184153.19907302814, 'sqft_basement')\n",
            "(-811.2729698828197, 'sqft_basement_square')\n",
            "(86004.46916067906, 'sqft_basement_sqrt')\n",
            "(-183358981.7538702, 'yr_built')\n",
            "(60718083.270345174, 'yr_built_square')\n",
            "(122585583.86392584, 'yr_built_sqrt')\n",
            "(3288569028.424694, 'yr_renovated')\n",
            "(-1101714085.506323, 'yr_renovated_square')\n",
            "(-2186876501.0940742, 'yr_renovated_sqrt')\n"
          ]
        }
      ]
    },
    {
      "cell_type": "markdown",
      "metadata": {
        "id": "0jyZ9qvvie3w"
      },
      "source": [
        "# 2. Ridge Regression\n",
        "test alphas: (np.logspace(-5, 5, 11))"
      ]
    },
    {
      "cell_type": "code",
      "source": [
        "print(np.logspace(-5, 5, 11))"
      ],
      "metadata": {
        "colab": {
          "base_uri": "https://localhost:8080/"
        },
        "id": "8iDglmlIO8Wp",
        "outputId": "1cfb8595-89e5-4269-c3da-15b1c99fba59"
      },
      "execution_count": null,
      "outputs": [
        {
          "output_type": "stream",
          "name": "stdout",
          "text": [
            "[1.e-05 1.e-04 1.e-03 1.e-02 1.e-01 1.e+00 1.e+01 1.e+02 1.e+03 1.e+04\n",
            " 1.e+05]\n"
          ]
        }
      ]
    },
    {
      "cell_type": "code",
      "metadata": {
        "id": "G8J4dgYwie3w",
        "colab": {
          "base_uri": "https://localhost:8080/"
        },
        "outputId": "2e1f9e5b-e43d-4b6a-d345-5714ba614198"
      },
      "source": [
        "\n",
        "from sklearn.linear_model import Ridge\n",
        "from sklearn.metrics import mean_squared_error\n",
        "\n",
        "l2_penalties = np.logspace(-5, 5, 11)#make the list of lambda values\n",
        "ridge_data = []\n",
        "\n",
        "for l2_penalty in l2_penalties:\n",
        "    print(l2_penalty)\n",
        "    model = Ridge(alpha = l2_penalty, random_state = 0) \n",
        "    model.fit(X_train, y_train)\n",
        "    train_pred = model.predict(X_train)\n",
        "    val_pred = model.predict(X_val)\n",
        "    train_rmse =  mean_squared_error(y_train, train_pred, squared = False)\n",
        "    validation_rmse = mean_squared_error(y_val, val_pred, squared = False)\n",
        "    \n",
        "    ridge_data.append({\n",
        "        'l2_penalty': l2_penalty,\n",
        "        'model': model,\n",
        "        'train_rmse': train_rmse,\n",
        "        'validation_rmse': validation_rmse})\n",
        "    \n",
        "ridge_data = pd.DataFrame(ridge_data) #put ridge_data to pds dataframe for later use\n",
        "print(ridge_data)"
      ],
      "execution_count": null,
      "outputs": [
        {
          "output_type": "stream",
          "name": "stdout",
          "text": [
            "1e-05\n",
            "0.0001\n",
            "0.001\n",
            "0.01\n",
            "0.1\n",
            "1.0\n",
            "10.0\n",
            "100.0\n",
            "1000.0\n",
            "10000.0\n",
            "100000.0\n",
            "      l2_penalty                                  model     train_rmse  \\\n",
            "0        0.00001     Ridge(alpha=1e-05, random_state=0)  146188.566942   \n",
            "1        0.00010    Ridge(alpha=0.0001, random_state=0)  146210.884175   \n",
            "2        0.00100     Ridge(alpha=0.001, random_state=0)  146610.292053   \n",
            "3        0.01000      Ridge(alpha=0.01, random_state=0)  147967.692703   \n",
            "4        0.10000       Ridge(alpha=0.1, random_state=0)  151619.819399   \n",
            "5        1.00000                  Ridge(random_state=0)  154932.690092   \n",
            "6       10.00000      Ridge(alpha=10.0, random_state=0)  161876.430362   \n",
            "7      100.00000     Ridge(alpha=100.0, random_state=0)  181371.431142   \n",
            "8     1000.00000    Ridge(alpha=1000.0, random_state=0)  244296.061524   \n",
            "9    10000.00000   Ridge(alpha=10000.0, random_state=0)  328840.881425   \n",
            "10  100000.00000  Ridge(alpha=100000.0, random_state=0)  353757.594802   \n",
            "\n",
            "    validation_rmse  \n",
            "0     643241.226105  \n",
            "1     643479.885343  \n",
            "2     641921.798386  \n",
            "3     614600.996092  \n",
            "4     572434.297452  \n",
            "5     550761.625114  \n",
            "6     548518.261356  \n",
            "7     567371.418909  \n",
            "8     641193.052000  \n",
            "9     762923.644311  \n",
            "10    797592.043545  \n"
          ]
        }
      ]
    },
    {
      "cell_type": "markdown",
      "metadata": {
        "id": "zm3ruRpbie33"
      },
      "source": [
        "### Investigating Ridge Regression Results\n"
      ]
    },
    {
      "cell_type": "code",
      "metadata": {
        "id": "p7N9wjsRie33",
        "colab": {
          "base_uri": "https://localhost:8080/",
          "height": 301
        },
        "outputId": "1568eaad-2ddc-45da-ac69-17c25f60b3fa"
      },
      "source": [
        "# Plot the validation RMSE as a blue line with dots\n",
        "plt.plot(ridge_data['l2_penalty'], ridge_data['validation_rmse'], \n",
        "         'b-o', label='Validation')\n",
        "# Plot the train RMSE as a red line dots\n",
        "plt.plot(ridge_data['l2_penalty'], ridge_data['train_rmse'], \n",
        "         'r-o', label='Train')\n",
        "\n",
        "# Make the x-axis log scale for readability\n",
        "plt.xscale('log')\n",
        "\n",
        "# Label the axes and make a legend\n",
        "plt.xlabel('l2_penalty')\n",
        "plt.ylabel('RMSE')\n",
        "plt.legend()"
      ],
      "execution_count": null,
      "outputs": [
        {
          "output_type": "execute_result",
          "data": {
            "text/plain": [
              "<matplotlib.legend.Legend at 0x7f200b612310>"
            ]
          },
          "metadata": {},
          "execution_count": 21
        },
        {
          "output_type": "display_data",
          "data": {
            "text/plain": [
              "<Figure size 432x288 with 1 Axes>"
            ],
            "image/png": "[encoded data removed]"
          },
          "metadata": {
            "needs_background": "light"
          }
        }
      ]
    },
    {
      "cell_type": "markdown",
      "metadata": {
        "id": "cm7O_q2qie36"
      },
      "source": [
        "### Define function that will be used to inspect the model parameters."
      ]
    },
    {
      "cell_type": "code",
      "metadata": {
        "id": "ypHtM2zfie37"
      },
      "source": [
        "def print_coefficients(model, features):\n",
        "    \"\"\"\n",
        "    This function takes in a model column and a features column. \n",
        "    And prints the coefficient along with its feature name.\n",
        "    \"\"\"\n",
        "    feats = list(zip(model.coef_, features))\n",
        "    print(*feats, sep = \"\\n\")"
      ],
      "execution_count": null,
      "outputs": []
    },
    {
      "cell_type": "markdown",
      "source": [
        "### Best Ridge Model\n",
        "the model with minimun RMSE on validation sets\n"
      ],
      "metadata": {
        "id": "_U-1th7ec0ES"
      }
    },
    {
      "cell_type": "code",
      "metadata": {
        "id": "jDXEkKGbie3_",
        "colab": {
          "base_uri": "https://localhost:8080/"
        },
        "outputId": "3894a8e5-5731-4acd-f895-038c202b4b77"
      },
      "source": [
        "#Print information about best L2 model\n",
        "best_ridge = ridge_data.loc[ridge_data['validation_rmse'].idxmin()] \n",
        "test_pred = best_ridge[\"model\"].predict(X_test)\n",
        "test_rmse = mean_squared_error(y_test, test_pred, squared = False)\n",
        "print('Best L2 Penalty', best_ridge['l2_penalty'])\n",
        "print('TEST RMSE', test_rmse)\n",
        "print_coefficients(best_ridge['model'], all_features) "
      ],
      "execution_count": null,
      "outputs": [
        {
          "output_type": "stream",
          "name": "stdout",
          "text": [
            "Best L2 Penalty 10.0\n",
            "TEST RMSE 626479.1919393151\n",
            "(-12814.960695689799, 'bedrooms')\n",
            "(-5578.585627553891, 'bedrooms_square')\n",
            "(-19987.878641088657, 'bedrooms_sqrt')\n",
            "(-261.23310460046054, 'bathrooms')\n",
            "(139717.2093055051, 'bathrooms_square')\n",
            "(-50659.47327155907, 'bathrooms_sqrt')\n",
            "(23125.504167268646, 'sqft_living')\n",
            "(19304.655191207854, 'sqft_living_square')\n",
            "(14413.319225996473, 'sqft_living_sqrt')\n",
            "(18909.076417532742, 'sqft_lot')\n",
            "(21375.201111502724, 'sqft_lot_square')\n",
            "(-25079.695226768985, 'sqft_lot_sqrt')\n",
            "(-15962.664049881223, 'floors')\n",
            "(13961.951626360782, 'floors_square')\n",
            "(-27220.38377204604, 'floors_sqrt')\n",
            "(43800.147497760285, 'waterfront')\n",
            "(43800.14749776011, 'waterfront_square')\n",
            "(43800.1474977602, 'waterfront_sqrt')\n",
            "(-7513.023932352438, 'view')\n",
            "(11529.923304894006, 'view_square')\n",
            "(-12278.672850845967, 'view_sqrt')\n",
            "(4224.607744785635, 'condition')\n",
            "(4624.595688989793, 'condition_square')\n",
            "(4026.4554446251373, 'condition_sqrt')\n",
            "(44871.776708574565, 'grade')\n",
            "(73624.90237512349, 'grade_square')\n",
            "(31314.956423923028, 'grade_sqrt')\n",
            "(22432.11950301675, 'sqft_above')\n",
            "(40851.91437009512, 'sqft_above_square')\n",
            "(1391.5234697643064, 'sqft_above_sqrt')\n",
            "(1331.3789329041886, 'sqft_basement')\n",
            "(-35037.04738328035, 'sqft_basement_square')\n",
            "(25425.774550791055, 'sqft_basement_sqrt')\n",
            "(-26030.276413736265, 'yr_built')\n",
            "(-25617.786846761843, 'yr_built_square')\n",
            "(-26232.134439888698, 'yr_built_sqrt')\n",
            "(4718.090111503833, 'yr_renovated')\n",
            "(5102.806925372985, 'yr_renovated_square')\n",
            "(4514.904467763988, 'yr_renovated_sqrt')\n"
          ]
        }
      ]
    },
    {
      "cell_type": "markdown",
      "metadata": {
        "id": "KgVrfrxYie4C"
      },
      "source": [
        "# Lasso Regression\n",
        "alpha : np.logspace(1, 7, num=7)"
      ]
    },
    {
      "cell_type": "code",
      "metadata": {
        "id": "KNai1N-Bie4D",
        "colab": {
          "base_uri": "https://localhost:8080/"
        },
        "outputId": "c6227b62-08a4-4edf-c7fc-439937cddc2b"
      },
      "source": [
        "from sklearn.linear_model import Lasso\n",
        "from sklearn.metrics import mean_squared_error\n",
        "\n",
        "l1_penalties = np.logspace(1, 7, num=7)\n",
        "lasso_data = []\n",
        "\n",
        "for l1_penalty in l1_penalties:\n",
        "    print(l1_penalty)\n",
        "    model_lasso = Lasso(alpha = l1_penalty, random_state = 0)\n",
        "    model_lasso.fit(X_train, y_train)\n",
        "    train_pred = model_lasso.predict(X_train)\n",
        "    val_pred = model_lasso.predict(X_val)\n",
        "    train_rmse =  mean_squared_error(y_train, train_pred, squared = False)\n",
        "    validation_rmse = mean_squared_error(y_val, val_pred, squared = False)\n",
        "\n",
        "    lasso_data.append({\n",
        "        'l1_penalty': l1_penalty,\n",
        "        'model': model_lasso,\n",
        "        'train_rmse': train_rmse,\n",
        "        'validation_rmse': validation_rmse})\n",
        "    \n",
        "lasso_data = pd.DataFrame(lasso_data)\n",
        "print(lasso_data)"
      ],
      "execution_count": null,
      "outputs": [
        {
          "output_type": "stream",
          "name": "stdout",
          "text": [
            "10.0\n",
            "100.0\n",
            "1000.0\n",
            "10000.0\n",
            "100000.0\n",
            "1000000.0\n",
            "10000000.0\n",
            "   l1_penalty                                    model     train_rmse  \\\n",
            "0        10.0        Lasso(alpha=10.0, random_state=0)  151336.667973   \n",
            "1       100.0       Lasso(alpha=100.0, random_state=0)  152164.419039   \n",
            "2      1000.0      Lasso(alpha=1000.0, random_state=0)  156360.395434   \n",
            "3     10000.0     Lasso(alpha=10000.0, random_state=0)  169912.542560   \n",
            "4    100000.0    Lasso(alpha=100000.0, random_state=0)  239553.336550   \n",
            "5   1000000.0   Lasso(alpha=1000000.0, random_state=0)  357105.698956   \n",
            "6  10000000.0  Lasso(alpha=10000000.0, random_state=0)  357105.698956   \n",
            "\n",
            "   validation_rmse  \n",
            "0    574102.178744  \n",
            "1    561653.281862  \n",
            "2    536906.548347  \n",
            "3    555771.690167  \n",
            "4    643989.904483  \n",
            "5    802207.512615  \n",
            "6    802207.512615  \n"
          ]
        },
        {
          "output_type": "stream",
          "name": "stderr",
          "text": [
            "/usr/local/lib/python3.8/dist-packages/sklearn/linear_model/_coordinate_descent.py:647: ConvergenceWarning: Objective did not converge. You might want to increase the number of iterations, check the scale of the features or consider increasing regularisation. Duality gap: 1.653e+12, tolerance: 1.913e+09\n",
            "  model = cd_fast.enet_coordinate_descent(\n",
            "/usr/local/lib/python3.8/dist-packages/sklearn/linear_model/_coordinate_descent.py:647: ConvergenceWarning: Objective did not converge. You might want to increase the number of iterations, check the scale of the features or consider increasing regularisation. Duality gap: 1.000e+12, tolerance: 1.913e+09\n",
            "  model = cd_fast.enet_coordinate_descent(\n",
            "/usr/local/lib/python3.8/dist-packages/sklearn/linear_model/_coordinate_descent.py:647: ConvergenceWarning: Objective did not converge. You might want to increase the number of iterations, check the scale of the features or consider increasing regularisation. Duality gap: 2.343e+09, tolerance: 1.913e+09\n",
            "  model = cd_fast.enet_coordinate_descent(\n"
          ]
        }
      ]
    },
    {
      "cell_type": "markdown",
      "metadata": {
        "id": "cJu6d6QLie4J"
      },
      "source": [
        "### Investigating Lasso\n",
        "\n",
        "how the L1 penalty affects the performance."
      ]
    },
    {
      "cell_type": "code",
      "metadata": {
        "id": "LK2KHst0ie4J",
        "colab": {
          "base_uri": "https://localhost:8080/",
          "height": 301
        },
        "outputId": "d253fc1e-aaa9-4f4b-98d4-f4e6786e8535"
      },
      "source": [
        "# Plot the validation RMSE as a blue line with dots\n",
        "\n",
        "plt.plot(lasso_data['l1_penalty'], lasso_data['validation_rmse'],\n",
        "         'b-o', label='Validation')\n",
        "\n",
        "# Plot the train RMSE as a red line dots\n",
        "plt.plot(lasso_data['l1_penalty'], lasso_data['train_rmse'],\n",
        "         'r-o', label='Train')\n",
        "\n",
        "# Make the x-axis log scale for readability\n",
        "plt.xscale('log')\n",
        "\n",
        "# Label the axes and make a legend\n",
        "plt.xlabel('l1_penalty')\n",
        "plt.ylabel('RMSE')\n",
        "plt.legend()"
      ],
      "execution_count": null,
      "outputs": [
        {
          "output_type": "execute_result",
          "data": {
            "text/plain": [
              "<matplotlib.legend.Legend at 0x7f2009446f10>"
            ]
          },
          "metadata": {},
          "execution_count": 56
        },
        {
          "output_type": "display_data",
          "data": {
            "text/plain": [
              "<Figure size 432x288 with 1 Axes>"
            ],
            "image/png": "[encoded data removed]"
          },
          "metadata": {
            "needs_background": "light"
          }
        }
      ]
    },
    {
      "cell_type": "markdown",
      "metadata": {
        "id": "kZD2YVJVie4N"
      },
      "source": [
        "### Best Lasso Model\n",
        "the model with minimun RMSE on validation sets"
      ]
    },
    {
      "cell_type": "code",
      "metadata": {
        "id": "XNggOYdSie4O",
        "colab": {
          "base_uri": "https://localhost:8080/"
        },
        "outputId": "964ed684-725c-44dc-d3f7-ace80987c3a9"
      },
      "source": [
        "best_lasso = lasso_data.loc[lasso_data['validation_rmse'].idxmin()]\n",
        "test_pred_lasso = best_lasso['model'].predict(X_test)\n",
        "test_rmse = mean_squared_error(y_test, test_pred_lasso, squared = False)\n",
        "print('Best L1 Penalty', best_lasso['l1_penalty'])\n",
        "print('TEST RMSE', test_rmse)\n",
        "print_coefficients(best_lasso['model'], all_features)\n"
      ],
      "execution_count": null,
      "outputs": [
        {
          "output_type": "stream",
          "name": "stdout",
          "text": [
            "Best L1 Penalty 1000.0\n",
            "TEST RMSE 632259.577639702\n",
            "(-0.0, 'bedrooms')\n",
            "(-26062.072706583123, 'bedrooms_square')\n",
            "(-13168.48073855585, 'bedrooms_sqrt')\n",
            "(-26032.24899731306, 'bathrooms')\n",
            "(234001.09464515498, 'bathrooms_square')\n",
            "(-128285.03553762606, 'bathrooms_sqrt')\n",
            "(0.0, 'sqft_living')\n",
            "(-0.0, 'sqft_living_square')\n",
            "(99795.65838300061, 'sqft_living_sqrt')\n",
            "(71087.39322963884, 'sqft_lot')\n",
            "(0.0, 'sqft_lot_square')\n",
            "(-59249.925115629594, 'sqft_lot_sqrt')\n",
            "(-0.0, 'floors')\n",
            "(19590.52966922941, 'floors_square')\n",
            "(-49684.08521691517, 'floors_sqrt')\n",
            "(135069.2054741631, 'waterfront')\n",
            "(0.0, 'waterfront_square')\n",
            "(0.0, 'waterfront_sqrt')\n",
            "(-0.0, 'view')\n",
            "(474.070469125082, 'view_square')\n",
            "(-9085.05047578395, 'view_sqrt')\n",
            "(11852.073361063814, 'condition')\n",
            "(0.0, 'condition_square')\n",
            "(5550.624625552447, 'condition_sqrt')\n",
            "(0.0, 'grade')\n",
            "(147571.67381741997, 'grade_square')\n",
            "(0.0, 'grade_sqrt')\n",
            "(0.0, 'sqft_above')\n",
            "(32841.90056200978, 'sqft_above_square')\n",
            "(0.0, 'sqft_above_sqrt')\n",
            "(0.0, 'sqft_basement')\n",
            "(-47520.696968686, 'sqft_basement_square')\n",
            "(24793.415922608656, 'sqft_basement_sqrt')\n",
            "(-57115.24288430111, 'yr_built')\n",
            "(-0.0, 'yr_built_square')\n",
            "(-8892.479045201224, 'yr_built_sqrt')\n",
            "(3897.5539237661224, 'yr_renovated')\n",
            "(18120.38271493947, 'yr_renovated_square')\n",
            "(0.0, 'yr_renovated_sqrt')\n"
          ]
        }
      ]
    }
  ]
}